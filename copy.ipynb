{
  "cells": [
    {
      "cell_type": "code",
      "execution_count": 255,
      "metadata": {},
      "outputs": [],
      "source": [
        "import cv2\n",
        "import numpy as np\n",
        "import matplotlib.pyplot as plt \n",
        "\n",
        "import os"
      ]
    },
    {
      "cell_type": "code",
      "execution_count": 256,
      "metadata": {},
      "outputs": [],
      "source": [
        "#img = cv2.imread(\"test.png\")\n",
        "# img = cv2.imread(\"0009.jpg\")\n",
        "# blurred = cv2.blur(img, (3,3))\n",
        "# canny = cv2.Canny(blurred, 50, 200)\n",
        "\n",
        "images = pathlib.Path('./')\n",
        "images = [str(i) for i in images.glob('*.jpg')]"
      ]
    },
    {
      "cell_type": "code",
      "execution_count": 257,
      "metadata": {},
      "outputs": [],
      "source": [
        "## find the non-zero min-max coords of canny\n",
        "# pts = np.argwhere(canny>0)\n",
        "# y1,x1 = pts.min(axis=0)\n",
        "# y2,x2 = pts.max(axis=0)"
      ]
    },
    {
      "cell_type": "code",
      "execution_count": 258,
      "metadata": {},
      "outputs": [
        {
          "name": "stdout",
          "output_type": "stream",
          "text": [
            "gelenler 0006.jpg\n",
            "1 olması gereken ölçü 1185 2316 566\n",
            "gelenler a0009.jpg\n",
            "2 olması gereken ölçü 926 1809 240\n",
            "gelenler a0008.jpg\n",
            "1 olması gereken ölçü 933 1824 445\n",
            "gelenler 0007.jpg\n",
            "1 olması gereken ölçü 1593 3114 760\n",
            "gelenler 0005.jpg\n",
            "1 olması gereken ölçü 1239 2422 591\n",
            "gelenler 0004.jpg\n",
            "2 olması gereken ölçü 1682 3287 306\n",
            "gelenler 0001.jpg\n",
            "1 olması gereken ölçü 1378 2693 658\n",
            "gelenler 0003.jpg\n",
            "2 olması gereken ölçü 1625 3176 306\n",
            "gelenler 0002.jpg\n",
            "2 olması gereken ölçü 1277 2496 60\n",
            "gelenler a0001.jpg\n",
            "1 olması gereken ölçü 942 1841 450\n",
            "gelenler a0003.jpg\n",
            "2 olması gereken ölçü 925 1807 161\n",
            "gelenler a0002.jpg\n",
            "2 olması gereken ölçü 909 1777 32\n",
            "gelenler 0009.jpg\n",
            "2 olması gereken ölçü 1687 3298 454\n",
            "gelenler a0006.jpg\n",
            "1 olması gereken ölçü 923 1804 441\n",
            "gelenler a0007.jpg\n",
            "1 olması gereken ölçü 960 1876 458\n",
            "gelenler 0008.jpg\n",
            "1 olması gereken ölçü 1279 2500 610\n",
            "gelenler a0005.jpg\n",
            "1 olması gereken ölçü 930 1818 444\n",
            "gelenler a0004.jpg\n",
            "2 olması gereken ölçü 926 1809 152\n"
          ]
        },
        {
          "data": {
            "image/png": "[encoded data removed]",
            "text/plain": [
              "<Figure size 640x480 with 1 Axes>"
            ]
          },
          "metadata": {},
          "output_type": "display_data"
        }
      ],
      "source": [
        "for image in images:\n",
        "    p = image.split('.')[0]\n",
        "    name = f'./a/{p}.jpg'\n",
        "\n",
        "    print(\"gelenler\", image)\n",
        "\n",
        "    img = cv2.imread(image)\n",
        "    blurred = cv2.blur(img, (3,3))\n",
        "    canny = cv2.Canny(blurred, 50, 200)\n",
        "\n",
        "    pts = np.argwhere(canny>0)\n",
        "    y1,x1 = pts.min(axis=0)\n",
        "    y2,x2 = pts.max(axis=0)\n",
        "\n",
        "    ideal_aspect = 1720/880\n",
        "    width = y2 - y1\n",
        "    height = x2 - x1\n",
        "    olmasi_gereken_height = width*ideal_aspect\n",
        "    olmasi_gereken_width = height/ideal_aspect\n",
        "    aspect = height/width\n",
        "\n",
        "    if aspect > ideal_aspect:\n",
        "        print(\"2 olması gereken ölçü\", round(olmasi_gereken_width), height, abs(round((olmasi_gereken_width-width)/2)))\n",
        "        y1 -= abs(round((olmasi_gereken_width-width)/2))\n",
        "        y2 += abs(round((olmasi_gereken_width-width)/2))\n",
        "    else:\n",
        "        print(\"1 olması gereken ölçü\", width, round(olmasi_gereken_height), abs(round((olmasi_gereken_height-width)/2)))\n",
        "        x1 -= abs(round((olmasi_gereken_height-height)/2))\n",
        "        x2 += abs(round((olmasi_gereken_height-height)/2))\n",
        "\n",
        "    cropped = img[y1-100:y2+100, x1-100:x2+100]\n",
        "\n",
        "    resized = cv2.resize(cropped,(1920,1080), interpolation = cv2.INTER_AREA)\n",
        "    cv2.imwrite(name,resized)\n",
        "    plt.imshow(resized)"
      ]
    },
    {
      "cell_type": "code",
      "execution_count": 259,
      "metadata": {},
      "outputs": [],
      "source": [
        "# ## crop the region\n",
        "# cropped = img[y1-100:y2+100, x1-100:x2+100]\n",
        "\n",
        "# resized = cv2.resize(cropped,(1920,1080), interpolation = cv2.INTER_AREA)\n",
        "# print('resized size',resized.shape)\n",
        "# cv2.imwrite('resized.png',resized)\n",
        "# plt.imshow(resized)"
      ]
    }
  ],
  "metadata": {
    "kernelspec": {
      "display_name": "Python 3",
      "language": "python",
      "name": "python3"
    },
    "language_info": {
      "codemirror_mode": {
        "name": "ipython",
        "version": 3
      },
      "file_extension": ".py",
      "mimetype": "text/x-python",
      "name": "python",
      "nbconvert_exporter": "python",
      "pygments_lexer": "ipython3",
      "version": "3.11.2"
    },
    "orig_nbformat": 4,
    "vscode": {
      "interpreter": {
        "hash": "b0fa6594d8f4cbf19f97940f81e996739fb7646882a419484c72d19e05852a7e"
      }
    }
  },
  "nbformat": 4,
  "nbformat_minor": 2
}
